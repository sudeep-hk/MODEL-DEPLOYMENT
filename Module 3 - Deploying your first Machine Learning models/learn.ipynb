{
 "cells": [
  {
   "cell_type": "code",
   "execution_count": 5,
   "metadata": {},
   "outputs": [
    {
     "name": "stdout",
     "output_type": "stream",
     "text": [
      "Overwriting app.py\n"
     ]
    }
   ],
   "source": [
    "\n",
    "%%writefile app.py\n",
    "\n",
    "import streamlit as st\n",
    "\n",
    "def main():\n",
    "    #title\n",
    "    st.markdown(\"check your eligiblity\")\n",
    "\n",
    "    #loading the data\n",
    "\n",
    "    #following lines create boxes in which user can enter data\n",
    "    Gender=st.selectbox('gender',(\"male\",\"female\",\"other\"))\n",
    "    Married=st.selectbox('marital status',(\"unmarried\",\"married\",\"other\"))\n",
    "    ApplicantIncome=st.number_input(\"monthly income in rupees\")\n",
    "    LoanAmount=st.number_input(\"loan amount in rupees\")\n",
    "    result=\"\"\n",
    "    \n",
    "# defining the function which will make the prediction using the data which the user inputs \n",
    "def prediction(Gender, Married, ApplicantIncome, LoanAmount):\n",
    "\n",
    "    # 3. Building the model to automate Loan Eligibility\n",
    "    if (ApplicantIncome >= 100):\n",
    "        loan_status = 'Approved'\n",
    "    elif (LoanAmount < 100):\n",
    "        loan_status = 'Approved'\n",
    "    else:\n",
    "        loan_status = 'Rejected'\n",
    "    return loan_status\n",
    "     \n",
    "if __name__=='__main__': \n",
    "    main()\n",
    "\n",
    "\n"
   ]
  },
  {
   "cell_type": "code",
   "execution_count": 9,
   "metadata": {},
   "outputs": [
    {
     "data": {
      "text/plain": [
       "<NgrokTunnel: \"http://0353-43-230-42-49.ngrok.io\" -> \"http://localhost:8501\">"
      ]
     },
     "execution_count": 9,
     "metadata": {},
     "output_type": "execute_result"
    },
    {
     "name": "stderr",
     "output_type": "stream",
     "text": [
      "t=2022-09-11T19:46:10+0530 lvl=warn msg=\"failed to open private leg\" id=c9760d7465e1 privaddr=localhost:8501 err=\"dial tcp [::1]:8501: connectex: No connection could be made because the target machine actively refused it.\"\n",
      "t=2022-09-11T19:46:25+0530 lvl=warn msg=\"failed to open private leg\" id=77f58efae2a1 privaddr=localhost:8501 err=\"dial tcp [::1]:8501: connectex: No connection could be made because the target machine actively refused it.\"\n",
      "t=2022-09-11T19:46:28+0530 lvl=warn msg=\"failed to open private leg\" id=0fcc0e23c530 privaddr=localhost:8501 err=\"dial tcp [::1]:8501: connectex: No connection could be made because the target machine actively refused it.\"\n",
      "t=2022-09-11T19:46:37+0530 lvl=warn msg=\"failed to open private leg\" id=56e2799e84b2 privaddr=localhost:8501 err=\"dial tcp [::1]:8501: connectex: No connection could be made because the target machine actively refused it.\"\n",
      "t=2022-09-11T19:46:40+0530 lvl=warn msg=\"failed to open private leg\" id=3c953b35a106 privaddr=localhost:8501 err=\"dial tcp [::1]:8501: connectex: No connection could be made because the target machine actively refused it.\"\n"
     ]
    }
   ],
   "source": [
    "from pyngrok import ngrok\n",
    "public_url=ngrok.connect('8501')\n",
    "public_url"
   ]
  },
  {
   "cell_type": "code",
   "execution_count": 10,
   "metadata": {},
   "outputs": [],
   "source": [
    "import pandas as pd\n",
    "train=pd.read_csv('loan_data.csv')"
   ]
  },
  {
   "cell_type": "code",
   "execution_count": 11,
   "metadata": {},
   "outputs": [
    {
     "data": {
      "text/html": [
       "<div>\n",
       "<style scoped>\n",
       "    .dataframe tbody tr th:only-of-type {\n",
       "        vertical-align: middle;\n",
       "    }\n",
       "\n",
       "    .dataframe tbody tr th {\n",
       "        vertical-align: top;\n",
       "    }\n",
       "\n",
       "    .dataframe thead th {\n",
       "        text-align: right;\n",
       "    }\n",
       "</style>\n",
       "<table border=\"1\" class=\"dataframe\">\n",
       "  <thead>\n",
       "    <tr style=\"text-align: right;\">\n",
       "      <th></th>\n",
       "      <th>Gender</th>\n",
       "      <th>Married</th>\n",
       "      <th>ApplicantIncome</th>\n",
       "      <th>LoanAmount</th>\n",
       "      <th>Loan_Status</th>\n",
       "    </tr>\n",
       "  </thead>\n",
       "  <tbody>\n",
       "    <tr>\n",
       "      <th>0</th>\n",
       "      <td>Male</td>\n",
       "      <td>Yes</td>\n",
       "      <td>4583</td>\n",
       "      <td>128000.0</td>\n",
       "      <td>N</td>\n",
       "    </tr>\n",
       "    <tr>\n",
       "      <th>1</th>\n",
       "      <td>Male</td>\n",
       "      <td>Yes</td>\n",
       "      <td>3000</td>\n",
       "      <td>66000.0</td>\n",
       "      <td>Y</td>\n",
       "    </tr>\n",
       "    <tr>\n",
       "      <th>2</th>\n",
       "      <td>Male</td>\n",
       "      <td>Yes</td>\n",
       "      <td>2583</td>\n",
       "      <td>120000.0</td>\n",
       "      <td>Y</td>\n",
       "    </tr>\n",
       "    <tr>\n",
       "      <th>3</th>\n",
       "      <td>Male</td>\n",
       "      <td>No</td>\n",
       "      <td>6000</td>\n",
       "      <td>141000.0</td>\n",
       "      <td>Y</td>\n",
       "    </tr>\n",
       "    <tr>\n",
       "      <th>4</th>\n",
       "      <td>Male</td>\n",
       "      <td>Yes</td>\n",
       "      <td>5417</td>\n",
       "      <td>267000.0</td>\n",
       "      <td>Y</td>\n",
       "    </tr>\n",
       "  </tbody>\n",
       "</table>\n",
       "</div>"
      ],
      "text/plain": [
       "  Gender Married  ApplicantIncome  LoanAmount Loan_Status\n",
       "0   Male     Yes             4583    128000.0           N\n",
       "1   Male     Yes             3000     66000.0           Y\n",
       "2   Male     Yes             2583    120000.0           Y\n",
       "3   Male      No             6000    141000.0           Y\n",
       "4   Male     Yes             5417    267000.0           Y"
      ]
     },
     "execution_count": 11,
     "metadata": {},
     "output_type": "execute_result"
    }
   ],
   "source": [
    "train.head"
   ]
  },
  {
   "cell_type": "code",
   "execution_count": null,
   "metadata": {},
   "outputs": [],
   "source": [
    "#convert categories into numbers\n",
    "train['Gender']=train['Gender'].map()"
   ]
  }
 ],
 "metadata": {
  "kernelspec": {
   "display_name": "Python 3.10.6 64-bit",
   "language": "python",
   "name": "python3"
  },
  "language_info": {
   "codemirror_mode": {
    "name": "ipython",
    "version": 3
   },
   "file_extension": ".py",
   "mimetype": "text/x-python",
   "name": "python",
   "nbconvert_exporter": "python",
   "pygments_lexer": "ipython3",
   "version": "3.10.7"
  },
  "orig_nbformat": 4,
  "vscode": {
   "interpreter": {
    "hash": "bb27270a5e4f8cb7d0eca249a0950dc7daa5204e8bcb6dd237418e87fe5c3217"
   }
  }
 },
 "nbformat": 4,
 "nbformat_minor": 2
}
